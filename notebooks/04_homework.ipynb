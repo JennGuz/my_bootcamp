{
 "cells": [
  {
   "cell_type": "markdown",
   "metadata": {},
   "source": [
    "## **Ejercicios de probabilidad**\n",
    "## *Ejercicio 1*\n",
    "Dos dados se lanzan una vez y se observa el total obtenido. Usa una simulación para encontrar la probabilidad estimada de que la puntuación sea mayor a 7 o un número par. Una simulación es una repetición del mismo experimento multiples veces para observar su comportamiento:\n",
    "\n",
    "Ejecuta el experimento 1000 veces (lanza 2 dados 1000 veces, y suma el número de ambos dados).\n",
    "Lleva ua cuenta de los números y las veces que la suma fue mayor a 7 o un número par.\n",
    "Divide el número del paso 2 entre el número de iteraciones(1000)."
   ]
  },
  {
   "cell_type": "code",
   "execution_count": 1,
   "metadata": {},
   "outputs": [
    {
     "name": "stdout",
     "output_type": "stream",
     "text": [
      "0.659\n"
     ]
    }
   ],
   "source": [
    "# vamos a simular lanzamiento de moneda\n",
    "import random \n",
    "\n",
    "count = 0 \n",
    "\n",
    "for i in range(1000):\n",
    "\n",
    "    die1 = random.randint(1,6)\n",
    "    die2 = random.randint(1,6)\n",
    "\n",
    "    result = die1 + die2\n",
    "\n",
    "    if result > 7 or result % 2 == 0:\n",
    "        count += 1\n",
    "\n",
    "print(count/1000)"
   ]
  },
  {
   "cell_type": "code",
   "execution_count": 9,
   "metadata": {},
   "outputs": [
    {
     "name": "stdout",
     "output_type": "stream",
     "text": [
      "0.1553\n"
     ]
    }
   ],
   "source": [
    "# calcular la probabilidad de sacar 4 J y 4 Q \n",
    "table = 0 \n",
    "iterations = 10000\n",
    "for i in range(iterations):\n",
    "    result = random.randint(1,52)\n",
    "    if result in [1,2,3,4,5,6,7,8]:\n",
    "        table += 1\n",
    "print(table/iterations)\n",
    "\n"
   ]
  },
  {
   "cell_type": "code",
   "execution_count": null,
   "metadata": {},
   "outputs": [],
   "source": [
    "# calcular la probabilidad de sacar dos caras en un lanzamiento de monedas\n",
    "table = 0 \n",
    "coin_1 = [\"H\",\"T\"]\n",
    "coin_2 = [\"H\",\"T\"]\n",
    "iterations = 10000\n",
    "for i in range(iterations):\n",
    "    result_1 = random.choice(coin_1)\n",
    "    result_2 = random.choice(coin_2)\n",
    "    if result_1 in [\"H\"] and result_2 in [\"H\"]:\n",
    "        table += 1\n",
    "print(table/iterations)"
   ]
  },
  {
   "cell_type": "code",
   "execution_count": 6,
   "metadata": {},
   "outputs": [
    {
     "name": "stdout",
     "output_type": "stream",
     "text": [
      "0.02\n"
     ]
    }
   ],
   "source": [
    "b = [\"B\"] * 10\n",
    "r = [\"R\"] * 20\n",
    "v = [\"V\"] * 30\n",
    "\n",
    "box = b + r + v\n",
    "\n",
    "count_3B_2R = 0\n",
    "count_same_color = 0\n",
    "iterations = 1000\n",
    "\n",
    "for i in range(iterations):\n",
    "    result = []\n",
    "    for _ in range(5):\n",
    "        pick = random.choice(box)\n",
    "        result.append(pick)\n",
    "    \n",
    "    if result.count(\"B\") == 3 and result.count(\"R\") == 2:\n",
    "        count_3B_2R += 1\n",
    "\n",
    "    if result.count(\"B\") == 5 or result.count(\"R\") == 5 or result.count(\"V\") == 5:\n",
    "        count_same_color += 1\n",
    "        \n",
    "prob_3B_2R = count_3B_2R / iterations\n",
    "prob_same_color = count_same_color / iterations\n",
    "\n",
    "print(f\"Probabilidad de tomar 3 bolas blancas y 2 rojas: {prob_3B_2R}\")\n",
    "print(f\"Probabilidad de tomar 5 bolas del mismo color: {prob_same_color}\")"
   ]
  }
 ],
 "metadata": {
  "kernelspec": {
   "display_name": ".venv",
   "language": "python",
   "name": "python3"
  },
  "language_info": {
   "codemirror_mode": {
    "name": "ipython",
    "version": 3
   },
   "file_extension": ".py",
   "mimetype": "text/x-python",
   "name": "python",
   "nbconvert_exporter": "python",
   "pygments_lexer": "ipython3",
   "version": "3.12.1"
  }
 },
 "nbformat": 4,
 "nbformat_minor": 2
}
